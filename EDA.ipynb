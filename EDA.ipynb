{
 "cells": [
  {
   "cell_type": "code",
   "execution_count": 2,
   "metadata": {},
   "outputs": [],
   "source": [
    "import numpy as np \n",
    "import pandas as pd \n",
    "import matplotlib.pyplot as plt \n",
    "import seaborn as sns"
   ]
  },
  {
   "cell_type": "code",
   "execution_count": 3,
   "metadata": {},
   "outputs": [],
   "source": [
    "df = pd.read_csv('restaurants_data.csv')"
   ]
  },
  {
   "cell_type": "code",
   "execution_count": 4,
   "metadata": {},
   "outputs": [
    {
     "data": {
      "text/html": [
       "<div>\n",
       "<style scoped>\n",
       "    .dataframe tbody tr th:only-of-type {\n",
       "        vertical-align: middle;\n",
       "    }\n",
       "\n",
       "    .dataframe tbody tr th {\n",
       "        vertical-align: top;\n",
       "    }\n",
       "\n",
       "    .dataframe thead th {\n",
       "        text-align: right;\n",
       "    }\n",
       "</style>\n",
       "<table border=\"1\" class=\"dataframe\">\n",
       "  <thead>\n",
       "    <tr style=\"text-align: right;\">\n",
       "      <th></th>\n",
       "      <th>Name</th>\n",
       "      <th>Cuisines</th>\n",
       "      <th>City</th>\n",
       "      <th>Rating</th>\n",
       "      <th>NumberOfReviews</th>\n",
       "    </tr>\n",
       "  </thead>\n",
       "  <tbody>\n",
       "    <tr>\n",
       "      <th>0</th>\n",
       "      <td>Wakame - Riyadh</td>\n",
       "      <td>\\n\\n                    Japanese, Asian\\n     ...</td>\n",
       "      <td>\\n\\n\\n                    Riyadh\\n            ...</td>\n",
       "      <td>\\n4.9\\n</td>\n",
       "      <td>\\n                        (\\n                 ...</td>\n",
       "    </tr>\n",
       "    <tr>\n",
       "      <th>1</th>\n",
       "      <td>Morini Italian Restaurant - Jareed Hotel - Riyadh</td>\n",
       "      <td>\\n\\n                    International, Italian...</td>\n",
       "      <td>\\n\\n\\n                    Riyadh\\n            ...</td>\n",
       "      <td>Very Good</td>\n",
       "      <td>\\n                        (\\n                 ...</td>\n",
       "    </tr>\n",
       "    <tr>\n",
       "      <th>2</th>\n",
       "      <td>Wakame - Jeddah</td>\n",
       "      <td>\\n\\n                    Chinese, Japanese\\n   ...</td>\n",
       "      <td>\\n\\n\\n                    Jeddah\\n            ...</td>\n",
       "      <td>\\n4.8\\n</td>\n",
       "      <td>\\n                        (\\n                 ...</td>\n",
       "    </tr>\n",
       "    <tr>\n",
       "      <th>3</th>\n",
       "      <td>Il Baretto Italian Restaurant - KAFD - Riyadh</td>\n",
       "      <td>\\n\\n                    Italian\\n             ...</td>\n",
       "      <td>\\n\\n\\n                    Riyadh\\n            ...</td>\n",
       "      <td>Very Good</td>\n",
       "      <td>\\n                        (\\n                 ...</td>\n",
       "    </tr>\n",
       "    <tr>\n",
       "      <th>4</th>\n",
       "      <td>Vidro Lounge - Riyadh</td>\n",
       "      <td>\\n\\n                    Mediterranean, Middle ...</td>\n",
       "      <td>\\n\\n\\n                    Riyadh\\n            ...</td>\n",
       "      <td>\\n4.7\\n</td>\n",
       "      <td>\\n                        (\\n                 ...</td>\n",
       "    </tr>\n",
       "  </tbody>\n",
       "</table>\n",
       "</div>"
      ],
      "text/plain": [
       "                                                Name  \\\n",
       "0                                    Wakame - Riyadh   \n",
       "1  Morini Italian Restaurant - Jareed Hotel - Riyadh   \n",
       "2                                    Wakame - Jeddah   \n",
       "3      Il Baretto Italian Restaurant - KAFD - Riyadh   \n",
       "4                              Vidro Lounge - Riyadh   \n",
       "\n",
       "                                            Cuisines  \\\n",
       "0  \\n\\n                    Japanese, Asian\\n     ...   \n",
       "1  \\n\\n                    International, Italian...   \n",
       "2  \\n\\n                    Chinese, Japanese\\n   ...   \n",
       "3  \\n\\n                    Italian\\n             ...   \n",
       "4  \\n\\n                    Mediterranean, Middle ...   \n",
       "\n",
       "                                                City     Rating  \\\n",
       "0  \\n\\n\\n                    Riyadh\\n            ...    \\n4.9\\n   \n",
       "1  \\n\\n\\n                    Riyadh\\n            ...  Very Good   \n",
       "2  \\n\\n\\n                    Jeddah\\n            ...    \\n4.8\\n   \n",
       "3  \\n\\n\\n                    Riyadh\\n            ...  Very Good   \n",
       "4  \\n\\n\\n                    Riyadh\\n            ...    \\n4.7\\n   \n",
       "\n",
       "                                     NumberOfReviews  \n",
       "0  \\n                        (\\n                 ...  \n",
       "1  \\n                        (\\n                 ...  \n",
       "2  \\n                        (\\n                 ...  \n",
       "3  \\n                        (\\n                 ...  \n",
       "4  \\n                        (\\n                 ...  "
      ]
     },
     "execution_count": 4,
     "metadata": {},
     "output_type": "execute_result"
    }
   ],
   "source": [
    "df.head()"
   ]
  },
  {
   "cell_type": "code",
   "execution_count": 5,
   "metadata": {},
   "outputs": [
    {
     "data": {
      "text/html": [
       "<div>\n",
       "<style scoped>\n",
       "    .dataframe tbody tr th:only-of-type {\n",
       "        vertical-align: middle;\n",
       "    }\n",
       "\n",
       "    .dataframe tbody tr th {\n",
       "        vertical-align: top;\n",
       "    }\n",
       "\n",
       "    .dataframe thead th {\n",
       "        text-align: right;\n",
       "    }\n",
       "</style>\n",
       "<table border=\"1\" class=\"dataframe\">\n",
       "  <thead>\n",
       "    <tr style=\"text-align: right;\">\n",
       "      <th></th>\n",
       "      <th>Name</th>\n",
       "      <th>Cuisines</th>\n",
       "      <th>City</th>\n",
       "      <th>Rating</th>\n",
       "      <th>NumberOfReviews</th>\n",
       "    </tr>\n",
       "  </thead>\n",
       "  <tbody>\n",
       "    <tr>\n",
       "      <th>count</th>\n",
       "      <td>1369</td>\n",
       "      <td>1369</td>\n",
       "      <td>1369</td>\n",
       "      <td>1369</td>\n",
       "      <td>1369</td>\n",
       "    </tr>\n",
       "    <tr>\n",
       "      <th>unique</th>\n",
       "      <td>1344</td>\n",
       "      <td>261</td>\n",
       "      <td>12</td>\n",
       "      <td>22</td>\n",
       "      <td>74</td>\n",
       "    </tr>\n",
       "    <tr>\n",
       "      <th>top</th>\n",
       "      <td>Lusin Armenian Restaurant - Khobar</td>\n",
       "      <td>\\n\\n                    Cafe, Coffee &amp; Tea, De...</td>\n",
       "      <td>\\n\\n\\n                    Jeddah\\n            ...</td>\n",
       "      <td>Very Good</td>\n",
       "      <td>\\n                        (\\n                 ...</td>\n",
       "    </tr>\n",
       "    <tr>\n",
       "      <th>freq</th>\n",
       "      <td>2</td>\n",
       "      <td>173</td>\n",
       "      <td>461</td>\n",
       "      <td>523</td>\n",
       "      <td>46</td>\n",
       "    </tr>\n",
       "  </tbody>\n",
       "</table>\n",
       "</div>"
      ],
      "text/plain": [
       "                                      Name  \\\n",
       "count                                 1369   \n",
       "unique                                1344   \n",
       "top     Lusin Armenian Restaurant - Khobar   \n",
       "freq                                     2   \n",
       "\n",
       "                                                 Cuisines  \\\n",
       "count                                                1369   \n",
       "unique                                                261   \n",
       "top     \\n\\n                    Cafe, Coffee & Tea, De...   \n",
       "freq                                                  173   \n",
       "\n",
       "                                                     City     Rating  \\\n",
       "count                                                1369       1369   \n",
       "unique                                                 12         22   \n",
       "top     \\n\\n\\n                    Jeddah\\n            ...  Very Good   \n",
       "freq                                                  461        523   \n",
       "\n",
       "                                          NumberOfReviews  \n",
       "count                                                1369  \n",
       "unique                                                 74  \n",
       "top     \\n                        (\\n                 ...  \n",
       "freq                                                   46  "
      ]
     },
     "execution_count": 5,
     "metadata": {},
     "output_type": "execute_result"
    }
   ],
   "source": [
    "df.describe() "
   ]
  },
  {
   "cell_type": "markdown",
   "metadata": {},
   "source": [
    "# EDA"
   ]
  },
  {
   "cell_type": "markdown",
   "metadata": {},
   "source": [
    "## Start with the 7-Dimnesions "
   ]
  },
  {
   "cell_type": "markdown",
   "metadata": {},
   "source": [
    "### Reliability \n",
    "\n",
    "> Data Was taken from this [Welcome Saudi](https://welcomesaudi.com/restaurant?query=&page=1) for food and restuarnts \n",
    "reccomendations.\n",
    " \n",
    "> we Webscraped the data from Welcome Saudi"
   ]
  },
  {
   "cell_type": "markdown",
   "metadata": {},
   "source": [
    "### Timeness \n",
    "> Data was scraped wedensday 28/8/2024"
   ]
  },
  {
   "cell_type": "markdown",
   "metadata": {},
   "source": [
    "### Consistency\n",
    "\n",
    "> Some columns need cleaning which we will address down: e.g. some values have '\\n' within the rows "
   ]
  },
  {
   "cell_type": "markdown",
   "metadata": {},
   "source": [
    "### Relevance\n",
    "\n",
    "> Data is Relavent to the questions we are asking!"
   ]
  },
  {
   "cell_type": "markdown",
   "metadata": {},
   "source": [
    "### Uniqueness\n",
    "\n",
    "> There exist some duplicates which we will be droping!"
   ]
  },
  {
   "cell_type": "code",
   "execution_count": 8,
   "metadata": {},
   "outputs": [
    {
     "data": {
      "text/html": [
       "<div>\n",
       "<style scoped>\n",
       "    .dataframe tbody tr th:only-of-type {\n",
       "        vertical-align: middle;\n",
       "    }\n",
       "\n",
       "    .dataframe tbody tr th {\n",
       "        vertical-align: top;\n",
       "    }\n",
       "\n",
       "    .dataframe thead th {\n",
       "        text-align: right;\n",
       "    }\n",
       "</style>\n",
       "<table border=\"1\" class=\"dataframe\">\n",
       "  <thead>\n",
       "    <tr style=\"text-align: right;\">\n",
       "      <th></th>\n",
       "      <th>Name</th>\n",
       "      <th>Cuisines</th>\n",
       "      <th>City</th>\n",
       "      <th>Rating</th>\n",
       "      <th>NumberOfReviews</th>\n",
       "    </tr>\n",
       "  </thead>\n",
       "  <tbody>\n",
       "    <tr>\n",
       "      <th>106</th>\n",
       "      <td>Morini Italian Restaurant - Jareed Hotel - Riyadh</td>\n",
       "      <td>\\n\\n                    International, Italian...</td>\n",
       "      <td>\\n\\n\\n                    Riyadh\\n            ...</td>\n",
       "      <td>Very Good</td>\n",
       "      <td>\\n                        (\\n                 ...</td>\n",
       "    </tr>\n",
       "    <tr>\n",
       "      <th>139</th>\n",
       "      <td>Wakame - Jeddah</td>\n",
       "      <td>\\n\\n                    Chinese, Japanese\\n   ...</td>\n",
       "      <td>\\n\\n\\n                    Jeddah\\n            ...</td>\n",
       "      <td>\\n4.8\\n</td>\n",
       "      <td>\\n                        (\\n                 ...</td>\n",
       "    </tr>\n",
       "    <tr>\n",
       "      <th>174</th>\n",
       "      <td>Il Baretto Italian Restaurant - KAFD - Riyadh</td>\n",
       "      <td>\\n\\n                    Italian\\n             ...</td>\n",
       "      <td>\\n\\n\\n                    Riyadh\\n            ...</td>\n",
       "      <td>Very Good</td>\n",
       "      <td>\\n                        (\\n                 ...</td>\n",
       "    </tr>\n",
       "    <tr>\n",
       "      <th>195</th>\n",
       "      <td>Vidro Lounge - Riyadh</td>\n",
       "      <td>\\n\\n                    Mediterranean, Middle ...</td>\n",
       "      <td>\\n\\n\\n                    Riyadh\\n            ...</td>\n",
       "      <td>\\n4.7\\n</td>\n",
       "      <td>\\n                        (\\n                 ...</td>\n",
       "    </tr>\n",
       "    <tr>\n",
       "      <th>202</th>\n",
       "      <td>Tokyo Fine Dining Japanese - Restaurant - Riyadh</td>\n",
       "      <td>\\n\\n                    Japanese\\n            ...</td>\n",
       "      <td>\\n\\n\\n                    Riyadh\\n            ...</td>\n",
       "      <td>Very Good</td>\n",
       "      <td>\\n                        (\\n                 ...</td>\n",
       "    </tr>\n",
       "    <tr>\n",
       "      <th>276</th>\n",
       "      <td>AOK Kitchen - KAFD - Riyadh</td>\n",
       "      <td>\\n\\n                    Gluten Free Option, In...</td>\n",
       "      <td>\\n\\n\\n                    Riyadh\\n            ...</td>\n",
       "      <td>Very Good</td>\n",
       "      <td>\\n                        (\\n                 ...</td>\n",
       "    </tr>\n",
       "    <tr>\n",
       "      <th>452</th>\n",
       "      <td>Swiss Butter - Sahara Mall - Riyadh</td>\n",
       "      <td>\\n\\n                    Steakhouse\\n          ...</td>\n",
       "      <td>\\n\\n\\n                    Riyadh\\n            ...</td>\n",
       "      <td>Very Good</td>\n",
       "      <td>\\n                        (\\n                 ...</td>\n",
       "    </tr>\n",
       "    <tr>\n",
       "      <th>574</th>\n",
       "      <td>Lusin Armenian Restaurant - Riyadh</td>\n",
       "      <td>\\n\\n                    Armenian\\n            ...</td>\n",
       "      <td>\\n\\n\\n                    Riyadh\\n            ...</td>\n",
       "      <td>Very Good</td>\n",
       "      <td>\\n                        (\\n                 ...</td>\n",
       "    </tr>\n",
       "    <tr>\n",
       "      <th>720</th>\n",
       "      <td>Swiss Butter - Jeddah</td>\n",
       "      <td>\\n\\n                    Steakhouse\\n          ...</td>\n",
       "      <td>\\n\\n\\n                    Jeddah\\n            ...</td>\n",
       "      <td>Very Good</td>\n",
       "      <td>\\n                        (\\n                 ...</td>\n",
       "    </tr>\n",
       "    <tr>\n",
       "      <th>832</th>\n",
       "      <td>Early Club - Breakfast &amp; Brunch</td>\n",
       "      <td>\\n</td>\n",
       "      <td>\\n\\n\\n                    Jeddah\\n            ...</td>\n",
       "      <td>Very Good</td>\n",
       "      <td>\\n                        (\\n                 ...</td>\n",
       "    </tr>\n",
       "  </tbody>\n",
       "</table>\n",
       "</div>"
      ],
      "text/plain": [
       "                                                  Name  \\\n",
       "106  Morini Italian Restaurant - Jareed Hotel - Riyadh   \n",
       "139                                    Wakame - Jeddah   \n",
       "174      Il Baretto Italian Restaurant - KAFD - Riyadh   \n",
       "195                              Vidro Lounge - Riyadh   \n",
       "202   Tokyo Fine Dining Japanese - Restaurant - Riyadh   \n",
       "276                        AOK Kitchen - KAFD - Riyadh   \n",
       "452                Swiss Butter - Sahara Mall - Riyadh   \n",
       "574                 Lusin Armenian Restaurant - Riyadh   \n",
       "720                              Swiss Butter - Jeddah   \n",
       "832                    Early Club - Breakfast & Brunch   \n",
       "\n",
       "                                              Cuisines  \\\n",
       "106  \\n\\n                    International, Italian...   \n",
       "139  \\n\\n                    Chinese, Japanese\\n   ...   \n",
       "174  \\n\\n                    Italian\\n             ...   \n",
       "195  \\n\\n                    Mediterranean, Middle ...   \n",
       "202  \\n\\n                    Japanese\\n            ...   \n",
       "276  \\n\\n                    Gluten Free Option, In...   \n",
       "452  \\n\\n                    Steakhouse\\n          ...   \n",
       "574  \\n\\n                    Armenian\\n            ...   \n",
       "720  \\n\\n                    Steakhouse\\n          ...   \n",
       "832                                                 \\n   \n",
       "\n",
       "                                                  City     Rating  \\\n",
       "106  \\n\\n\\n                    Riyadh\\n            ...  Very Good   \n",
       "139  \\n\\n\\n                    Jeddah\\n            ...    \\n4.8\\n   \n",
       "174  \\n\\n\\n                    Riyadh\\n            ...  Very Good   \n",
       "195  \\n\\n\\n                    Riyadh\\n            ...    \\n4.7\\n   \n",
       "202  \\n\\n\\n                    Riyadh\\n            ...  Very Good   \n",
       "276  \\n\\n\\n                    Riyadh\\n            ...  Very Good   \n",
       "452  \\n\\n\\n                    Riyadh\\n            ...  Very Good   \n",
       "574  \\n\\n\\n                    Riyadh\\n            ...  Very Good   \n",
       "720  \\n\\n\\n                    Jeddah\\n            ...  Very Good   \n",
       "832  \\n\\n\\n                    Jeddah\\n            ...  Very Good   \n",
       "\n",
       "                                       NumberOfReviews  \n",
       "106  \\n                        (\\n                 ...  \n",
       "139  \\n                        (\\n                 ...  \n",
       "174  \\n                        (\\n                 ...  \n",
       "195  \\n                        (\\n                 ...  \n",
       "202  \\n                        (\\n                 ...  \n",
       "276  \\n                        (\\n                 ...  \n",
       "452  \\n                        (\\n                 ...  \n",
       "574  \\n                        (\\n                 ...  \n",
       "720  \\n                        (\\n                 ...  \n",
       "832  \\n                        (\\n                 ...  "
      ]
     },
     "execution_count": 8,
     "metadata": {},
     "output_type": "execute_result"
    }
   ],
   "source": [
    "df[df.duplicated()]"
   ]
  },
  {
   "cell_type": "code",
   "execution_count": 9,
   "metadata": {},
   "outputs": [],
   "source": [
    "df.drop_duplicates(inplace = True)"
   ]
  },
  {
   "cell_type": "markdown",
   "metadata": {},
   "source": [
    "### Completeness\n",
    "\n",
    "> no NUll values in the data"
   ]
  },
  {
   "cell_type": "code",
   "execution_count": 12,
   "metadata": {},
   "outputs": [
    {
     "data": {
      "text/plain": [
       "Name               0\n",
       "Cuisines           0\n",
       "City               0\n",
       "Rating             0\n",
       "NumberOfReviews    0\n",
       "dtype: int64"
      ]
     },
     "execution_count": 12,
     "metadata": {},
     "output_type": "execute_result"
    }
   ],
   "source": [
    "df.isnull().sum()"
   ]
  },
  {
   "cell_type": "markdown",
   "metadata": {},
   "source": [
    "### Accuracy\n",
    "\n",
    "> Some data types are not the same which should be addressed like the rating column whihc has two types: numerical and categorical. \n",
    "\n",
    "> we will address outliers once we finished the cleaning of the data"
   ]
  },
  {
   "cell_type": "markdown",
   "metadata": {},
   "source": [
    "## Cleaning!"
   ]
  },
  {
   "cell_type": "code",
   "execution_count": 13,
   "metadata": {},
   "outputs": [
    {
     "data": {
      "text/html": [
       "<div>\n",
       "<style scoped>\n",
       "    .dataframe tbody tr th:only-of-type {\n",
       "        vertical-align: middle;\n",
       "    }\n",
       "\n",
       "    .dataframe tbody tr th {\n",
       "        vertical-align: top;\n",
       "    }\n",
       "\n",
       "    .dataframe thead th {\n",
       "        text-align: right;\n",
       "    }\n",
       "</style>\n",
       "<table border=\"1\" class=\"dataframe\">\n",
       "  <thead>\n",
       "    <tr style=\"text-align: right;\">\n",
       "      <th></th>\n",
       "      <th>Name</th>\n",
       "      <th>Cuisines</th>\n",
       "      <th>City</th>\n",
       "      <th>Rating</th>\n",
       "      <th>NumberOfReviews</th>\n",
       "    </tr>\n",
       "  </thead>\n",
       "  <tbody>\n",
       "    <tr>\n",
       "      <th>0</th>\n",
       "      <td>Wakame - Riyadh</td>\n",
       "      <td>\\n\\n                    Japanese, Asian\\n     ...</td>\n",
       "      <td>\\n\\n\\n                    Riyadh\\n            ...</td>\n",
       "      <td>\\n4.9\\n</td>\n",
       "      <td>\\n                        (\\n                 ...</td>\n",
       "    </tr>\n",
       "    <tr>\n",
       "      <th>1</th>\n",
       "      <td>Morini Italian Restaurant - Jareed Hotel - Riyadh</td>\n",
       "      <td>\\n\\n                    International, Italian...</td>\n",
       "      <td>\\n\\n\\n                    Riyadh\\n            ...</td>\n",
       "      <td>Very Good</td>\n",
       "      <td>\\n                        (\\n                 ...</td>\n",
       "    </tr>\n",
       "    <tr>\n",
       "      <th>2</th>\n",
       "      <td>Wakame - Jeddah</td>\n",
       "      <td>\\n\\n                    Chinese, Japanese\\n   ...</td>\n",
       "      <td>\\n\\n\\n                    Jeddah\\n            ...</td>\n",
       "      <td>\\n4.8\\n</td>\n",
       "      <td>\\n                        (\\n                 ...</td>\n",
       "    </tr>\n",
       "    <tr>\n",
       "      <th>3</th>\n",
       "      <td>Il Baretto Italian Restaurant - KAFD - Riyadh</td>\n",
       "      <td>\\n\\n                    Italian\\n             ...</td>\n",
       "      <td>\\n\\n\\n                    Riyadh\\n            ...</td>\n",
       "      <td>Very Good</td>\n",
       "      <td>\\n                        (\\n                 ...</td>\n",
       "    </tr>\n",
       "    <tr>\n",
       "      <th>4</th>\n",
       "      <td>Vidro Lounge - Riyadh</td>\n",
       "      <td>\\n\\n                    Mediterranean, Middle ...</td>\n",
       "      <td>\\n\\n\\n                    Riyadh\\n            ...</td>\n",
       "      <td>\\n4.7\\n</td>\n",
       "      <td>\\n                        (\\n                 ...</td>\n",
       "    </tr>\n",
       "  </tbody>\n",
       "</table>\n",
       "</div>"
      ],
      "text/plain": [
       "                                                Name  \\\n",
       "0                                    Wakame - Riyadh   \n",
       "1  Morini Italian Restaurant - Jareed Hotel - Riyadh   \n",
       "2                                    Wakame - Jeddah   \n",
       "3      Il Baretto Italian Restaurant - KAFD - Riyadh   \n",
       "4                              Vidro Lounge - Riyadh   \n",
       "\n",
       "                                            Cuisines  \\\n",
       "0  \\n\\n                    Japanese, Asian\\n     ...   \n",
       "1  \\n\\n                    International, Italian...   \n",
       "2  \\n\\n                    Chinese, Japanese\\n   ...   \n",
       "3  \\n\\n                    Italian\\n             ...   \n",
       "4  \\n\\n                    Mediterranean, Middle ...   \n",
       "\n",
       "                                                City     Rating  \\\n",
       "0  \\n\\n\\n                    Riyadh\\n            ...    \\n4.9\\n   \n",
       "1  \\n\\n\\n                    Riyadh\\n            ...  Very Good   \n",
       "2  \\n\\n\\n                    Jeddah\\n            ...    \\n4.8\\n   \n",
       "3  \\n\\n\\n                    Riyadh\\n            ...  Very Good   \n",
       "4  \\n\\n\\n                    Riyadh\\n            ...    \\n4.7\\n   \n",
       "\n",
       "                                     NumberOfReviews  \n",
       "0  \\n                        (\\n                 ...  \n",
       "1  \\n                        (\\n                 ...  \n",
       "2  \\n                        (\\n                 ...  \n",
       "3  \\n                        (\\n                 ...  \n",
       "4  \\n                        (\\n                 ...  "
      ]
     },
     "execution_count": 13,
     "metadata": {},
     "output_type": "execute_result"
    }
   ],
   "source": [
    "df.head()"
   ]
  },
  {
   "cell_type": "code",
   "execution_count": 29,
   "metadata": {},
   "outputs": [],
   "source": [
    "df = df.apply(lambda x: x.str.replace('\\n', '').replace('\\t', ''))"
   ]
  },
  {
   "cell_type": "code",
   "execution_count": 30,
   "metadata": {},
   "outputs": [
    {
     "data": {
      "text/html": [
       "<div>\n",
       "<style scoped>\n",
       "    .dataframe tbody tr th:only-of-type {\n",
       "        vertical-align: middle;\n",
       "    }\n",
       "\n",
       "    .dataframe tbody tr th {\n",
       "        vertical-align: top;\n",
       "    }\n",
       "\n",
       "    .dataframe thead th {\n",
       "        text-align: right;\n",
       "    }\n",
       "</style>\n",
       "<table border=\"1\" class=\"dataframe\">\n",
       "  <thead>\n",
       "    <tr style=\"text-align: right;\">\n",
       "      <th></th>\n",
       "      <th>Name</th>\n",
       "      <th>Cuisines</th>\n",
       "      <th>City</th>\n",
       "      <th>Rating</th>\n",
       "      <th>NumberOfReviews</th>\n",
       "    </tr>\n",
       "  </thead>\n",
       "  <tbody>\n",
       "    <tr>\n",
       "      <th>0</th>\n",
       "      <td>Wakame - Riyadh</td>\n",
       "      <td>Japanese, Asian           ...</td>\n",
       "      <td>Riyadh</td>\n",
       "      <td>4.9</td>\n",
       "      <td>(                     ...</td>\n",
       "    </tr>\n",
       "    <tr>\n",
       "      <th>1</th>\n",
       "      <td>Morini Italian Restaurant - Jareed Hotel - Riyadh</td>\n",
       "      <td>International, Italian    ...</td>\n",
       "      <td>Riyadh</td>\n",
       "      <td>Very Good</td>\n",
       "      <td>(                     ...</td>\n",
       "    </tr>\n",
       "    <tr>\n",
       "      <th>2</th>\n",
       "      <td>Wakame - Jeddah</td>\n",
       "      <td>Chinese, Japanese         ...</td>\n",
       "      <td>Jeddah</td>\n",
       "      <td>4.8</td>\n",
       "      <td>(                     ...</td>\n",
       "    </tr>\n",
       "    <tr>\n",
       "      <th>3</th>\n",
       "      <td>Il Baretto Italian Restaurant - KAFD - Riyadh</td>\n",
       "      <td>Italian                   ...</td>\n",
       "      <td>Riyadh</td>\n",
       "      <td>Very Good</td>\n",
       "      <td>(                     ...</td>\n",
       "    </tr>\n",
       "    <tr>\n",
       "      <th>4</th>\n",
       "      <td>Vidro Lounge - Riyadh</td>\n",
       "      <td>Mediterranean, Middle East...</td>\n",
       "      <td>Riyadh</td>\n",
       "      <td>4.7</td>\n",
       "      <td>(                     ...</td>\n",
       "    </tr>\n",
       "  </tbody>\n",
       "</table>\n",
       "</div>"
      ],
      "text/plain": [
       "                                                Name  \\\n",
       "0                                    Wakame - Riyadh   \n",
       "1  Morini Italian Restaurant - Jareed Hotel - Riyadh   \n",
       "2                                    Wakame - Jeddah   \n",
       "3      Il Baretto Italian Restaurant - KAFD - Riyadh   \n",
       "4                              Vidro Lounge - Riyadh   \n",
       "\n",
       "                                            Cuisines  \\\n",
       "0                      Japanese, Asian           ...   \n",
       "1                      International, Italian    ...   \n",
       "2                      Chinese, Japanese         ...   \n",
       "3                      Italian                   ...   \n",
       "4                      Mediterranean, Middle East...   \n",
       "\n",
       "                                             City     Rating  \\\n",
       "0                      Riyadh                            4.9   \n",
       "1                      Riyadh                      Very Good   \n",
       "2                      Jeddah                            4.8   \n",
       "3                      Riyadh                      Very Good   \n",
       "4                      Riyadh                            4.7   \n",
       "\n",
       "                                     NumberOfReviews  \n",
       "0                          (                     ...  \n",
       "1                          (                     ...  \n",
       "2                          (                     ...  \n",
       "3                          (                     ...  \n",
       "4                          (                     ...  "
      ]
     },
     "execution_count": 30,
     "metadata": {},
     "output_type": "execute_result"
    }
   ],
   "source": [
    "df.head()"
   ]
  },
  {
   "cell_type": "code",
   "execution_count": 34,
   "metadata": {},
   "outputs": [
    {
     "data": {
      "text/plain": [
       "Name               object\n",
       "Cuisines           object\n",
       "City               object\n",
       "Rating             object\n",
       "NumberOfReviews    object\n",
       "dtype: object"
      ]
     },
     "execution_count": 34,
     "metadata": {},
     "output_type": "execute_result"
    }
   ],
   "source": [
    "df.dtypes"
   ]
  },
  {
   "cell_type": "code",
   "execution_count": 35,
   "metadata": {},
   "outputs": [
    {
     "data": {
      "text/plain": [
       "Cuisines\n",
       "Cafe, Coffee & Tea, Desserts                                  173\n",
       "International                                                 141\n",
       "American                                                      121\n",
       "Italian                                                        66\n",
       "Indian                                                         54\n",
       "                                                             ... \n",
       "Cafe, Desserts, Coffee & Tea                                    1\n",
       "French, International, Italian                                  1\n",
       "Shwarma, Steakhouse                                             1\n",
       "Armenian, American                                              1\n",
       "American, Arabic, Italian                                       1\n",
       "Name: count, Length: 261, dtype: int64"
      ]
     },
     "execution_count": 35,
     "metadata": {},
     "output_type": "execute_result"
    }
   ],
   "source": [
    "df.Cuisines.value_counts()"
   ]
  },
  {
   "cell_type": "code",
   "execution_count": null,
   "metadata": {},
   "outputs": [],
   "source": []
  }
 ],
 "metadata": {
  "kernelspec": {
   "display_name": "Python 3",
   "language": "python",
   "name": "python3"
  },
  "language_info": {
   "codemirror_mode": {
    "name": "ipython",
    "version": 3
   },
   "file_extension": ".py",
   "mimetype": "text/x-python",
   "name": "python",
   "nbconvert_exporter": "python",
   "pygments_lexer": "ipython3",
   "version": "3.12.3"
  }
 },
 "nbformat": 4,
 "nbformat_minor": 2
}
